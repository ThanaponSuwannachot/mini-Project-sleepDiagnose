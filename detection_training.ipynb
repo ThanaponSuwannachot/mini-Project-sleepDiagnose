{
 "cells": [
  {
   "cell_type": "code",
   "execution_count": 144,
   "metadata": {},
   "outputs": [],
   "source": [
    "from os import listdir\n",
    "from os.path import join\n",
    "import numpy as np\n",
    "import pandas as pd\n",
    "import matplotlib.pyplot as plt\n",
    "import random\n",
    "from scipy import stats\n",
    "import tensorflow as tf\n",
    "from tensorflow.keras import layers, models, optimizers, regularizers\n",
    "from sklearn.metrics import confusion_matrix\n",
    "import seaborn as sn"
   ]
  },
  {
   "cell_type": "code",
   "execution_count": 198,
   "metadata": {},
   "outputs": [
    {
     "name": "stdout",
     "output_type": "stream",
     "text": [
      "Max measurements per file: 128\n",
      "Downsample factor: 2\n",
      "Window length: 64\n"
     ]
    }
   ],
   "source": [
    "# Settings\n",
    "dataset_path = 'dataCollect'  # Directory where raw accelerometer data is stored\n",
    "normal_op_list = ['male_h179_w67_24_normal','male_h176_w67_24_normal']\n",
    "apnea_op_list = ['male_h179_w67_24_apnea', 'male_h176_w67_24_apnea']\n",
    "val_ratio = 0.2             # Percentage of samples that should be held for validation set\n",
    "test_ratio = 0.2            # Percentage of samples that should be held for test set\n",
    "raw_scale = 1               # Multiply raw values to fit into integers\n",
    "sensor_sample_rate = 200    # Hz\n",
    "desired_sample_rate = 50    # Hz\n",
    "sample_time = 0.64           # Time (sec) length of each sample\n",
    "samples_per_file = 128      # Expected number of measurements in each file (truncate to this)\n",
    "max_measurements = int(sample_time * sensor_sample_rate)\n",
    "downsample_factor = int(samples_per_file / desired_sample_rate)\n",
    "win_len = int(max_measurements / downsample_factor)\n",
    "\n",
    "keras_model_name = 'models\\\\apnea_detect_model'           # Will be given .h5 suffix\n",
    "sample_file_name = 'models\\\\normal_apnea_samples'  # Will be given .npz suffix\n",
    "rep_dataset_name = 'models\\\\normal_apnea_test_set' # Will be given .npz suffix\n",
    "\n",
    "print('Max measurements per file:', max_measurements)\n",
    "print('Downsample factor:', downsample_factor)\n",
    "print('Window length:', win_len)"
   ]
  },
  {
   "cell_type": "code",
   "execution_count": 199,
   "metadata": {},
   "outputs": [],
   "source": [
    "# Create list of filenames\n",
    "def createFilenameList(op_list):\n",
    "    \n",
    "    # Extract paths and filenames in each directory\n",
    "    op_filenames = []\n",
    "    num_samples = 0\n",
    "    for index, target in enumerate(op_list):\n",
    "        samples_in_dir = listdir(join(dataset_path, target))\n",
    "        samples_in_dir = [join(dataset_path, target, sample) for sample in samples_in_dir]\n",
    "        op_filenames.append(samples_in_dir)\n",
    "    \n",
    "    # Flatten list\n",
    "    return [item for sublist in op_filenames for item in sublist]"
   ]
  },
  {
   "cell_type": "code",
   "execution_count": 200,
   "metadata": {},
   "outputs": [
    {
     "name": "stdout",
     "output_type": "stream",
     "text": [
      "Number of normal samples: 42\n",
      "Number of apnea samples: 42\n"
     ]
    }
   ],
   "source": [
    "# Create normal and apnea filename lists\n",
    "normal_op_filenames = createFilenameList(normal_op_list)\n",
    "apnea_op_filenames = createFilenameList(apnea_op_list)\n",
    "print('Number of normal samples:', len(normal_op_filenames))\n",
    "print('Number of apnea samples:', len(apnea_op_filenames))"
   ]
  },
  {
   "cell_type": "code",
   "execution_count": 201,
   "metadata": {},
   "outputs": [],
   "source": [
    "# Shuffle lists\n",
    "random.shuffle(normal_op_filenames)\n",
    "random.shuffle(apnea_op_filenames)"
   ]
  },
  {
   "cell_type": "code",
   "execution_count": 202,
   "metadata": {},
   "outputs": [],
   "source": [
    "# Calculate validation and test set sizes\n",
    "val_set_size = int(len(normal_op_filenames) * val_ratio)\n",
    "test_set_size = int(len(normal_op_filenames) * test_ratio)"
   ]
  },
  {
   "cell_type": "code",
   "execution_count": 203,
   "metadata": {},
   "outputs": [
    {
     "name": "stdout",
     "output_type": "stream",
     "text": [
      "Number of training samples: 26\n",
      "Number of validation samples: 8\n",
      "Number of test samples: 8\n"
     ]
    }
   ],
   "source": [
    "# Break dataset apart into train, validation, and test sets\n",
    "num_samples = len(normal_op_filenames)\n",
    "filenames_val = normal_op_filenames[:val_set_size]\n",
    "filenames_test = normal_op_filenames[val_set_size:(val_set_size + test_set_size)]\n",
    "filenames_train = normal_op_filenames[(val_set_size + test_set_size):]\n",
    "\n",
    "# Print out number of samples in each set\n",
    "print('Number of training samples:', len(filenames_train))\n",
    "print('Number of validation samples:', len(filenames_val))\n",
    "print('Number of test samples:', len(filenames_test))\n",
    "\n",
    "# Check that our splits add up correctly\n",
    "assert(len(filenames_train) + len(filenames_val) + len(filenames_test)) == num_samples"
   ]
  },
  {
   "cell_type": "code",
   "execution_count": 204,
   "metadata": {},
   "outputs": [],
   "source": [
    "# Function: extract specified features (variances, MAD) from sample\n",
    "def extract_features(sample, max_measurements=0, scale=1):\n",
    "    \n",
    "    features = []\n",
    "    \n",
    "    # Truncate sample\n",
    "    if max_measurements == 0:\n",
    "        max_measurements = sample.shape[0]\n",
    "    sample = sample[0:max_measurements]\n",
    "    \n",
    "    # Scale sample\n",
    "    sample = scale * sample\n",
    "    \n",
    "        \n",
    "#     # Remove DC component\n",
    "#     sample = sample - np.mean(sample, axis=0)\n",
    "    \n",
    "#     # Truncate sample\n",
    "#     sample = sample[0:max_measurements]\n",
    "    \n",
    "#     # Variance\n",
    "#     features.append(np.var(sample, axis=0))\n",
    "    \n",
    "#     # Kurtosis\n",
    "#     features.append(stats.kurtosis(sample))\n",
    "    \n",
    "#     # Skew\n",
    "#     features.append(stats.skew(sample))\n",
    "    \n",
    "    # Median absolute deviation (MAD)\n",
    "    features.append(stats.median_absolute_deviation(sample))\n",
    "    \n",
    "#     # Correlation\n",
    "#     cov = np.corrcoef(sample.T)\n",
    "#     features.append(np.array([cov[0,1], cov[0,2], cov[1,2]]))\n",
    "    \n",
    "    # Compute a windowed FFT of each axis in the sample (leave off DC)\n",
    "#     sample = sample[::downsample_factor, :]  # Downsample\n",
    "#     sample = np.floor(sample)                # Round down to int\n",
    "#     hann_window = np.hanning(sample.shape[0])\n",
    "#     for i, axis in enumerate(sample.T):\n",
    "#         fft = abs(np.fft.rfft(axis * hann_window))\n",
    "#         features.append(fft[1:])  # Leave off DC\n",
    "    \n",
    "    return np.array(features).flatten()"
   ]
  },
  {
   "cell_type": "code",
   "execution_count": 205,
   "metadata": {},
   "outputs": [
    {
     "name": "stdout",
     "output_type": "stream",
     "text": [
      "(3,)\n",
      "[0.00681477 0.0118519  0.00306231]\n"
     ]
    },
    {
     "name": "stderr",
     "output_type": "stream",
     "text": [
      "C:\\Users\\beamtana\\anaconda3\\envs\\python3.7\\lib\\site-packages\\ipykernel_launcher.py:31: DeprecationWarning: `median_absolute_deviation` is deprecated, use `median_abs_deviation` instead!\n",
      "\n",
      "To preserve the existing default behavior, use\n",
      "`scipy.stats.median_abs_deviation(..., scale=1/1.4826)`.\n",
      "The value 1.4826 is not numerically precise for scaling\n",
      "with a normal distribution. For a numerically precise value, use\n",
      "`scipy.stats.median_abs_deviation(..., scale='normal')`.\n",
      "\n"
     ]
    },
    {
     "data": {
      "text/plain": [
       "[<matplotlib.lines.Line2D at 0x223d9c72e88>]"
      ]
     },
     "execution_count": 205,
     "metadata": {},
     "output_type": "execute_result"
    },
    {
     "data": {
      "image/png": "[encoded data removed]",
      "text/plain": [
       "<Figure size 432x288 with 1 Axes>"
      ]
     },
     "metadata": {
      "needs_background": "light"
     },
     "output_type": "display_data"
    }
   ],
   "source": [
    "# Test with 1 sample\n",
    "sample = np.genfromtxt(filenames_test[0], delimiter=',')\n",
    "features = extract_features(sample, max_measurements, scale=raw_scale)\n",
    "print(features.shape)\n",
    "print(features)\n",
    "plt.plot(features)"
   ]
  },
  {
   "cell_type": "code",
   "execution_count": 206,
   "metadata": {},
   "outputs": [],
   "source": [
    "# Function: loop through filenames, creating feature sets\n",
    "def create_feature_set(filenames):\n",
    "    x_out = []\n",
    "    for file in filenames:\n",
    "        sample = np.genfromtxt(file, delimiter=',')\n",
    "        features = extract_features(sample, max_measurements, raw_scale)\n",
    "        x_out.append(features)\n",
    "        \n",
    "    return np.array(x_out)"
   ]
  },
  {
   "cell_type": "code",
   "execution_count": 207,
   "metadata": {},
   "outputs": [
    {
     "name": "stdout",
     "output_type": "stream",
     "text": [
      "Extracted features from training set. Shape: (26, 3)\n",
      "Extracted features from validation set. Shape: (8, 3)\n",
      "Extracted features from test set. Shape: (8, 3)\n"
     ]
    },
    {
     "name": "stderr",
     "output_type": "stream",
     "text": [
      "C:\\Users\\beamtana\\anaconda3\\envs\\python3.7\\lib\\site-packages\\ipykernel_launcher.py:31: DeprecationWarning: `median_absolute_deviation` is deprecated, use `median_abs_deviation` instead!\n",
      "\n",
      "To preserve the existing default behavior, use\n",
      "`scipy.stats.median_abs_deviation(..., scale=1/1.4826)`.\n",
      "The value 1.4826 is not numerically precise for scaling\n",
      "with a normal distribution. For a numerically precise value, use\n",
      "`scipy.stats.median_abs_deviation(..., scale='normal')`.\n",
      "\n"
     ]
    }
   ],
   "source": [
    "# Create training, validation, and test sets\n",
    "x_train = create_feature_set(filenames_train)\n",
    "print('Extracted features from training set. Shape:', x_train.shape)\n",
    "x_val = create_feature_set(filenames_val)\n",
    "print('Extracted features from validation set. Shape:', x_val.shape)\n",
    "x_test = create_feature_set(filenames_test)\n",
    "print('Extracted features from test set. Shape:', x_test.shape)"
   ]
  },
  {
   "cell_type": "code",
   "execution_count": 208,
   "metadata": {},
   "outputs": [
    {
     "name": "stdout",
     "output_type": "stream",
     "text": [
      "(3,)\n"
     ]
    }
   ],
   "source": [
    "# Get input shape for 1 sample\n",
    "sample_shape = x_train.shape[1:]\n",
    "print(sample_shape)"
   ]
  },
  {
   "cell_type": "code",
   "execution_count": 209,
   "metadata": {},
   "outputs": [
    {
     "name": "stdout",
     "output_type": "stream",
     "text": [
      "Model: \"sequential_4\"\n",
      "_________________________________________________________________\n",
      " Layer (type)                Output Shape              Param #   \n",
      "=================================================================\n",
      " dense_8 (Dense)             (None, 2)                 8         \n",
      "                                                                 \n",
      " dropout_4 (Dropout)         (None, 2)                 0         \n",
      "                                                                 \n",
      " dense_9 (Dense)             (None, 3)                 9         \n",
      "                                                                 \n",
      "=================================================================\n",
      "Total params: 17\n",
      "Trainable params: 17\n",
      "Non-trainable params: 0\n",
      "_________________________________________________________________\n"
     ]
    }
   ],
   "source": [
    "# Build model\n",
    "# Based on: https://medium.com/@curiousily/credit-card-fraud-detection-using-autoencoders-in-keras-tensorflow-for-hackers-part-vii-20e0c85301bd\n",
    "encoding_dim = 2       # Number of nodes in first layer\n",
    "model = models.Sequential([\n",
    "    layers.InputLayer(input_shape=sample_shape),\n",
    "    layers.Dense(encoding_dim, activation='relu'),\n",
    "    layers.Dropout(0.2),\n",
    "    layers.Dense(*sample_shape, activation='relu')\n",
    "])\n",
    "\n",
    "# Display model\n",
    "model.summary()"
   ]
  },
  {
   "cell_type": "code",
   "execution_count": 210,
   "metadata": {},
   "outputs": [],
   "source": [
    "# Add training parameters to model\n",
    "model.compile(optimizer='adam',\n",
    "             loss='mse')"
   ]
  },
  {
   "cell_type": "code",
   "execution_count": 211,
   "metadata": {},
   "outputs": [
    {
     "name": "stdout",
     "output_type": "stream",
     "text": [
      "Epoch 1/50\n",
      "1/1 [==============================] - 1s 520ms/step - loss: 6.2732e-05 - val_loss: 4.8684e-05\n",
      "Epoch 2/50\n",
      "1/1 [==============================] - 0s 21ms/step - loss: 5.6646e-05 - val_loss: 3.9786e-05\n",
      "Epoch 3/50\n",
      "1/1 [==============================] - 0s 20ms/step - loss: 3.9880e-05 - val_loss: 3.3147e-05\n",
      "Epoch 4/50\n",
      "1/1 [==============================] - 0s 20ms/step - loss: 3.8152e-05 - val_loss: 2.8478e-05\n",
      "Epoch 5/50\n",
      "1/1 [==============================] - 0s 21ms/step - loss: 3.3999e-05 - val_loss: 2.5258e-05\n",
      "Epoch 6/50\n",
      "1/1 [==============================] - 0s 20ms/step - loss: 3.6856e-05 - val_loss: 2.3077e-05\n",
      "Epoch 7/50\n",
      "1/1 [==============================] - 0s 25ms/step - loss: 3.0971e-05 - val_loss: 2.1734e-05\n",
      "Epoch 8/50\n",
      "1/1 [==============================] - 0s 21ms/step - loss: 3.4278e-05 - val_loss: 2.0986e-05\n",
      "Epoch 9/50\n",
      "1/1 [==============================] - 0s 19ms/step - loss: 3.2765e-05 - val_loss: 2.0613e-05\n",
      "Epoch 10/50\n",
      "1/1 [==============================] - 0s 20ms/step - loss: 3.4255e-05 - val_loss: 2.0458e-05\n",
      "Epoch 11/50\n",
      "1/1 [==============================] - 0s 20ms/step - loss: 3.4402e-05 - val_loss: 2.0409e-05\n",
      "Epoch 12/50\n",
      "1/1 [==============================] - 0s 20ms/step - loss: 4.0153e-05 - val_loss: 2.0408e-05\n",
      "Epoch 13/50\n",
      "1/1 [==============================] - 0s 20ms/step - loss: 3.3770e-05 - val_loss: 2.0426e-05\n",
      "Epoch 14/50\n",
      "1/1 [==============================] - 0s 19ms/step - loss: 3.3941e-05 - val_loss: 2.0458e-05\n",
      "Epoch 15/50\n",
      "1/1 [==============================] - 0s 19ms/step - loss: 3.7977e-05 - val_loss: 2.0538e-05\n",
      "Epoch 16/50\n",
      "1/1 [==============================] - 0s 20ms/step - loss: 3.7349e-05 - val_loss: 2.0726e-05\n",
      "Epoch 17/50\n",
      "1/1 [==============================] - 0s 19ms/step - loss: 3.3171e-05 - val_loss: 2.1086e-05\n",
      "Epoch 18/50\n",
      "1/1 [==============================] - 0s 22ms/step - loss: 3.5440e-05 - val_loss: 2.1623e-05\n",
      "Epoch 19/50\n",
      "1/1 [==============================] - 0s 21ms/step - loss: 3.0871e-05 - val_loss: 2.2350e-05\n",
      "Epoch 20/50\n",
      "1/1 [==============================] - 0s 21ms/step - loss: 3.1122e-05 - val_loss: 2.3126e-05\n",
      "Epoch 21/50\n",
      "1/1 [==============================] - 0s 21ms/step - loss: 3.1816e-05 - val_loss: 2.3919e-05\n",
      "Epoch 22/50\n",
      "1/1 [==============================] - 0s 31ms/step - loss: 2.9625e-05 - val_loss: 2.4666e-05\n",
      "Epoch 23/50\n",
      "1/1 [==============================] - 0s 27ms/step - loss: 3.1185e-05 - val_loss: 2.5216e-05\n",
      "Epoch 24/50\n",
      "1/1 [==============================] - 0s 21ms/step - loss: 3.2107e-05 - val_loss: 2.5511e-05\n",
      "Epoch 25/50\n",
      "1/1 [==============================] - 0s 21ms/step - loss: 3.5914e-05 - val_loss: 2.5496e-05\n",
      "Epoch 26/50\n",
      "1/1 [==============================] - 0s 21ms/step - loss: 3.2075e-05 - val_loss: 2.5246e-05\n",
      "Epoch 27/50\n",
      "1/1 [==============================] - 0s 20ms/step - loss: 3.1006e-05 - val_loss: 2.4815e-05\n",
      "Epoch 28/50\n",
      "1/1 [==============================] - 0s 21ms/step - loss: 3.6409e-05 - val_loss: 2.4270e-05\n",
      "Epoch 29/50\n",
      "1/1 [==============================] - 0s 20ms/step - loss: 3.6151e-05 - val_loss: 2.3619e-05\n",
      "Epoch 30/50\n",
      "1/1 [==============================] - 0s 21ms/step - loss: 3.1341e-05 - val_loss: 2.3022e-05\n",
      "Epoch 31/50\n",
      "1/1 [==============================] - 0s 20ms/step - loss: 3.2856e-05 - val_loss: 2.2479e-05\n",
      "Epoch 32/50\n",
      "1/1 [==============================] - 0s 21ms/step - loss: 3.0354e-05 - val_loss: 2.2009e-05\n",
      "Epoch 33/50\n",
      "1/1 [==============================] - 0s 20ms/step - loss: 3.1238e-05 - val_loss: 2.1606e-05\n",
      "Epoch 34/50\n",
      "1/1 [==============================] - 0s 22ms/step - loss: 3.0355e-05 - val_loss: 2.1304e-05\n",
      "Epoch 35/50\n",
      "1/1 [==============================] - 0s 20ms/step - loss: 3.0274e-05 - val_loss: 2.1108e-05\n",
      "Epoch 36/50\n",
      "1/1 [==============================] - 0s 20ms/step - loss: 3.0266e-05 - val_loss: 2.1002e-05\n",
      "Epoch 37/50\n",
      "1/1 [==============================] - 0s 20ms/step - loss: 3.0251e-05 - val_loss: 2.0962e-05\n",
      "Epoch 38/50\n",
      "1/1 [==============================] - 0s 20ms/step - loss: 3.2822e-05 - val_loss: 2.0958e-05\n",
      "Epoch 39/50\n",
      "1/1 [==============================] - 0s 20ms/step - loss: 3.3770e-05 - val_loss: 2.0983e-05\n",
      "Epoch 40/50\n",
      "1/1 [==============================] - 0s 20ms/step - loss: 3.1412e-05 - val_loss: 2.1053e-05\n",
      "Epoch 41/50\n",
      "1/1 [==============================] - 0s 20ms/step - loss: 3.2215e-05 - val_loss: 2.1143e-05\n",
      "Epoch 42/50\n",
      "1/1 [==============================] - 0s 24ms/step - loss: 3.0027e-05 - val_loss: 2.1259e-05\n",
      "Epoch 43/50\n",
      "1/1 [==============================] - 0s 22ms/step - loss: 3.0538e-05 - val_loss: 2.1378e-05\n",
      "Epoch 44/50\n",
      "1/1 [==============================] - 0s 21ms/step - loss: 3.1864e-05 - val_loss: 2.1547e-05\n",
      "Epoch 45/50\n",
      "1/1 [==============================] - 0s 20ms/step - loss: 3.3453e-05 - val_loss: 2.1728e-05\n",
      "Epoch 46/50\n",
      "1/1 [==============================] - 0s 25ms/step - loss: 2.9382e-05 - val_loss: 2.1925e-05\n",
      "Epoch 47/50\n",
      "1/1 [==============================] - 0s 42ms/step - loss: 3.3501e-05 - val_loss: 2.2092e-05\n",
      "Epoch 48/50\n",
      "1/1 [==============================] - 0s 32ms/step - loss: 2.9330e-05 - val_loss: 2.2233e-05\n",
      "Epoch 49/50\n",
      "1/1 [==============================] - 0s 32ms/step - loss: 3.3662e-05 - val_loss: 2.2307e-05\n",
      "Epoch 50/50\n",
      "1/1 [==============================] - 0s 44ms/step - loss: 3.1732e-05 - val_loss: 2.2317e-05\n"
     ]
    }
   ],
   "source": [
    "# Train model (note Y labels are same as inputs, X)\n",
    "history = model.fit(x_train,\n",
    "                   x_train,\n",
    "                   epochs=50,\n",
    "                   batch_size=100,\n",
    "                   validation_data=(x_val, x_val),\n",
    "                   verbose=1)"
   ]
  },
  {
   "cell_type": "code",
   "execution_count": 212,
   "metadata": {},
   "outputs": [
    {
     "data": {
      "image/png": "[encoded data removed]",
      "text/plain": [
       "<Figure size 432x288 with 1 Axes>"
      ]
     },
     "metadata": {
      "needs_background": "light"
     },
     "output_type": "display_data"
    }
   ],
   "source": [
    "# Plot results\n",
    "loss = history.history['loss']\n",
    "val_loss = history.history['val_loss']\n",
    "\n",
    "epochs = range(1, len(loss) + 1)\n",
    "\n",
    "plt.figure()\n",
    "\n",
    "plt.plot(epochs, loss, 'bo', label='Training loss')\n",
    "plt.plot(epochs, val_loss, 'b', label='Validation loss')\n",
    "plt.title('Training and validation loss')\n",
    "plt.legend()\n",
    "\n",
    "plt.show()"
   ]
  },
  {
   "cell_type": "code",
   "execution_count": 213,
   "metadata": {},
   "outputs": [
    {
     "name": "stdout",
     "output_type": "stream",
     "text": [
      "Average MSE for normal validation set: 2.23167623440995e-05\n",
      "Standard deviation of MSE for normal validation set: 1.6213719574186578e-05\n",
      "Recommended threshold (3x std dev + avg): 7.095792106665924e-05\n"
     ]
    },
    {
     "data": {
      "text/plain": [
       "(array([4., 0., 1., 0., 0., 1., 0., 0., 0., 0., 0., 0., 0., 0., 0., 0., 1.,\n",
       "        0., 0., 1.]),\n",
       " array([9.21987461e-06, 1.14070799e-05, 1.35942852e-05, 1.57814905e-05,\n",
       "        1.79686958e-05, 2.01559011e-05, 2.23431063e-05, 2.45303116e-05,\n",
       "        2.67175169e-05, 2.89047222e-05, 3.10919275e-05, 3.32791328e-05,\n",
       "        3.54663381e-05, 3.76535434e-05, 3.98407487e-05, 4.20279539e-05,\n",
       "        4.42151592e-05, 4.64023645e-05, 4.85895698e-05, 5.07767751e-05,\n",
       "        5.29639804e-05]),\n",
       " <a list of 20 Patch objects>)"
      ]
     },
     "execution_count": 213,
     "metadata": {},
     "output_type": "execute_result"
    },
    {
     "data": {
      "image/png": "[encoded data removed]",
      "text/plain": [
       "<Figure size 432x288 with 1 Axes>"
      ]
     },
     "metadata": {
      "needs_background": "light"
     },
     "output_type": "display_data"
    }
   ],
   "source": [
    "# Calculate MSE from validation set\n",
    "predictions = model.predict(x_val)\n",
    "normal_mse = np.mean(np.power(x_val - predictions, 2), axis=1)\n",
    "print('Average MSE for normal validation set:', np.average(normal_mse))\n",
    "print('Standard deviation of MSE for normal validation set:', np.std(normal_mse))\n",
    "print('Recommended threshold (3x std dev + avg):', (3*np.std(normal_mse)) + np.average(normal_mse))\n",
    "fig, ax = plt.subplots(1,1)\n",
    "ax.hist(normal_mse, bins=20, label='normal', color='blue', alpha=0.7)"
   ]
  },
  {
   "cell_type": "code",
   "execution_count": 214,
   "metadata": {},
   "outputs": [
    {
     "name": "stdout",
     "output_type": "stream",
     "text": [
      "Extracted features from apnea set. Shape: (8, 3)\n"
     ]
    },
    {
     "name": "stderr",
     "output_type": "stream",
     "text": [
      "C:\\Users\\beamtana\\anaconda3\\envs\\python3.7\\lib\\site-packages\\ipykernel_launcher.py:31: DeprecationWarning: `median_absolute_deviation` is deprecated, use `median_abs_deviation` instead!\n",
      "\n",
      "To preserve the existing default behavior, use\n",
      "`scipy.stats.median_abs_deviation(..., scale=1/1.4826)`.\n",
      "The value 1.4826 is not numerically precise for scaling\n",
      "with a normal distribution. For a numerically precise value, use\n",
      "`scipy.stats.median_abs_deviation(..., scale='normal')`.\n",
      "\n"
     ]
    }
   ],
   "source": [
    "# Extract features from apnea test set (truncate to length of X test set)\n",
    "apnea_ops_trunc = apnea_op_filenames[0:len(normal_mse)]\n",
    "apnea_features = create_feature_set(apnea_ops_trunc)\n",
    "print('Extracted features from apnea set. Shape:', apnea_features.shape)"
   ]
  },
  {
   "cell_type": "code",
   "execution_count": 215,
   "metadata": {},
   "outputs": [
    {
     "name": "stdout",
     "output_type": "stream",
     "text": [
      "Average MSE for for apnea test set: 1.164291948566389e-05\n"
     ]
    }
   ],
   "source": [
    "# Calculate MSE from apnea set\n",
    "predictions = model.predict(apnea_features)\n",
    "apnea_mse = np.mean(np.power(apnea_features - predictions, 2), axis=1)\n",
    "print('Average MSE for for apnea test set:', np.average(apnea_mse))"
   ]
  },
  {
   "cell_type": "code",
   "execution_count": 216,
   "metadata": {},
   "outputs": [
    {
     "data": {
      "text/plain": [
       "(array([2., 0., 0., 1., 2., 0., 0., 0., 0., 1., 0., 0., 0., 0., 0., 1., 0.,\n",
       "        0., 0., 1.]),\n",
       " array([4.77890404e-06, 5.70079189e-06, 6.62267974e-06, 7.54456759e-06,\n",
       "        8.46645544e-06, 9.38834329e-06, 1.03102311e-05, 1.12321190e-05,\n",
       "        1.21540068e-05, 1.30758947e-05, 1.39977825e-05, 1.49196704e-05,\n",
       "        1.58415582e-05, 1.67634461e-05, 1.76853339e-05, 1.86072218e-05,\n",
       "        1.95291096e-05, 2.04509975e-05, 2.13728853e-05, 2.22947732e-05,\n",
       "        2.32166610e-05]),\n",
       " <a list of 20 Patch objects>)"
      ]
     },
     "execution_count": 216,
     "metadata": {},
     "output_type": "execute_result"
    },
    {
     "data": {
      "image/png": "[encoded data removed]",
      "text/plain": [
       "<Figure size 432x288 with 1 Axes>"
      ]
     },
     "metadata": {
      "needs_background": "light"
     },
     "output_type": "display_data"
    }
   ],
   "source": [
    "# Plot histograms of normal validation vs. apnea sets (MSEs)\n",
    "fig, ax = plt.subplots(1,1)\n",
    "plt.xscale(\"log\")\n",
    "ax.hist(normal_mse, bins=20, label='normal', color='blue', alpha=0.7)\n",
    "ax.hist(apnea_mse, bins=20, label='apnea', color='red', alpha=0.7)"
   ]
  },
  {
   "cell_type": "code",
   "execution_count": 217,
   "metadata": {},
   "outputs": [
    {
     "name": "stdout",
     "output_type": "stream",
     "text": [
      "Average MSE for normal test set: 3.374645355957938e-05\n"
     ]
    }
   ],
   "source": [
    "# Look at separation using test set\n",
    "predictions = model.predict(x_test)\n",
    "normal_mse = np.mean(np.power(x_test - predictions, 2), axis=1)\n",
    "print('Average MSE for normal test set:', np.average(normal_mse))"
   ]
  },
  {
   "cell_type": "code",
   "execution_count": 218,
   "metadata": {},
   "outputs": [
    {
     "data": {
      "text/plain": [
       "(array([2., 0., 0., 1., 2., 0., 0., 0., 0., 1., 0., 0., 0., 0., 0., 1., 0.,\n",
       "        0., 0., 1.]),\n",
       " array([4.77890404e-06, 5.70079189e-06, 6.62267974e-06, 7.54456759e-06,\n",
       "        8.46645544e-06, 9.38834329e-06, 1.03102311e-05, 1.12321190e-05,\n",
       "        1.21540068e-05, 1.30758947e-05, 1.39977825e-05, 1.49196704e-05,\n",
       "        1.58415582e-05, 1.67634461e-05, 1.76853339e-05, 1.86072218e-05,\n",
       "        1.95291096e-05, 2.04509975e-05, 2.13728853e-05, 2.22947732e-05,\n",
       "        2.32166610e-05]),\n",
       " <a list of 20 Patch objects>)"
      ]
     },
     "execution_count": 218,
     "metadata": {},
     "output_type": "execute_result"
    },
    {
     "data": {
      "image/png": "[encoded data removed]",
      "text/plain": [
       "<Figure size 432x288 with 1 Axes>"
      ]
     },
     "metadata": {
      "needs_background": "light"
     },
     "output_type": "display_data"
    }
   ],
   "source": [
    "# Plot histograms of normal test vs. apnea sets (MSEs)\n",
    "fig, ax = plt.subplots(1,1)\n",
    "plt.xscale(\"log\")\n",
    "ax.hist(normal_mse, bins=20, label='normal', color='blue', alpha=0.7)\n",
    "ax.hist(apnea_mse, bins=20, label='apnea', color='red', alpha=0.7)"
   ]
  },
  {
   "cell_type": "code",
   "execution_count": 219,
   "metadata": {},
   "outputs": [],
   "source": [
    "# If we're happy with the performance, save the model\n",
    "model.save(keras_model_name + '.h5')"
   ]
  },
  {
   "cell_type": "code",
   "execution_count": 220,
   "metadata": {},
   "outputs": [],
   "source": [
    "# Save a normal and apnea sample for trying out on the MCU\n",
    "normal_sample = np.genfromtxt(filenames_test[0], delimiter=',')\n",
    "apnea_sample = np.genfromtxt(apnea_op_filenames[0], delimiter=',')\n",
    "np.savez(sample_file_name + '.npz', normal_sample=normal_sample, apnea_sample=apnea_sample)"
   ]
  },
  {
   "cell_type": "code",
   "execution_count": 221,
   "metadata": {},
   "outputs": [],
   "source": [
    "# Save the test dataset for use as a representative dataset\n",
    "np.savez(rep_dataset_name + '.npz', x_test=x_test)"
   ]
  },
  {
   "cell_type": "code",
   "execution_count": 222,
   "metadata": {},
   "outputs": [],
   "source": [
    "# Create a classifier (0 = normal, 1 = apnea)\n",
    "def detect_apnea(x, model, threshold=0):\n",
    "    input_tensor = x_test[0].reshape(1, -1)\n",
    "    pred = model.predict(input_tensor)\n",
    "    mse = np.mean(np.power(x - pred, 2), axis=1)\n",
    "    if mse > threshold:\n",
    "        return 1\n",
    "    else:\n",
    "        return 0"
   ]
  },
  {
   "cell_type": "code",
   "execution_count": 243,
   "metadata": {},
   "outputs": [],
   "source": [
    "# Choose a threshold\n",
    "apnea_threshold = 1e-05"
   ]
  },
  {
   "cell_type": "code",
   "execution_count": 244,
   "metadata": {},
   "outputs": [
    {
     "name": "stdout",
     "output_type": "stream",
     "text": [
      "[1, 1, 1, 0, 1, 1, 1, 1]\n"
     ]
    }
   ],
   "source": [
    "# Perform classification on test set\n",
    "pred_test = [detect_apnea(x, model, apnea_threshold) for x in x_test]\n",
    "print(pred_test)"
   ]
  },
  {
   "cell_type": "code",
   "execution_count": 245,
   "metadata": {},
   "outputs": [
    {
     "name": "stdout",
     "output_type": "stream",
     "text": [
      "[0, 0, 1, 0, 1, 1, 0, 0]\n"
     ]
    }
   ],
   "source": [
    "# Perform classification on apnea set\n",
    "pred_apnea = [detect_apnea(x, model, apnea_threshold) for x in apnea_features]\n",
    "print(pred_apnea)"
   ]
  },
  {
   "cell_type": "code",
   "execution_count": 246,
   "metadata": {},
   "outputs": [],
   "source": [
    "# Combine predictions into one long list and create a label list\n",
    "pred = np.array(pred_test + pred_apnea)\n",
    "labels = ([0] * len(pred_test)) + ([1] * len(pred_apnea))"
   ]
  },
  {
   "cell_type": "code",
   "execution_count": 247,
   "metadata": {},
   "outputs": [
    {
     "name": "stdout",
     "output_type": "stream",
     "text": [
      "[[1 7]\n",
      " [5 3]]\n"
     ]
    }
   ],
   "source": [
    "# Create confusion matrix\n",
    "cm = confusion_matrix(labels, pred)\n",
    "print(cm)"
   ]
  },
  {
   "cell_type": "code",
   "execution_count": 248,
   "metadata": {},
   "outputs": [
    {
     "data": {
      "text/plain": [
       "Text(33.0, 0.5, 'Actual')"
      ]
     },
     "execution_count": 248,
     "metadata": {},
     "output_type": "execute_result"
    },
    {
     "data": {
      "image/png": "[encoded data removed]",
      "text/plain": [
       "<Figure size 432x288 with 2 Axes>"
      ]
     },
     "metadata": {
      "needs_background": "light"
     },
     "output_type": "display_data"
    }
   ],
   "source": [
    "# Make confusion matrix pretty\n",
    "df_cm = pd.DataFrame(cm, index=['normal', 'apnea'], columns=['normal', 'apnea'])\n",
    "plt.figure()\n",
    "sn.heatmap(df_cm, annot=True)\n",
    "plt.title('Confusion Matrix')\n",
    "plt.xlabel('Prediction')\n",
    "plt.ylabel('Actual')"
   ]
  }
 ],
 "metadata": {
  "interpreter": {
   "hash": "2b159548ec84e003b8efb55ad4ced8d3ae8b9b54ad123b16942cd7ed9a3f3d48"
  },
  "kernelspec": {
   "display_name": "Python 3.7.11 64-bit ('python3.7': conda)",
   "language": "python",
   "name": "python3"
  },
  "language_info": {
   "codemirror_mode": {
    "name": "ipython",
    "version": 3
   },
   "file_extension": ".py",
   "mimetype": "text/x-python",
   "name": "python",
   "nbconvert_exporter": "python",
   "pygments_lexer": "ipython3",
   "version": "3.7.11"
  },
  "orig_nbformat": 4
 },
 "nbformat": 4,
 "nbformat_minor": 2
}
